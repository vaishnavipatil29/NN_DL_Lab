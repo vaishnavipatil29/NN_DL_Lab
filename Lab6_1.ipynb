{
  "nbformat": 4,
  "nbformat_minor": 0,
  "metadata": {
    "colab": {
      "name": "Lab6_1",
      "provenance": [],
      "collapsed_sections": [],
      "include_colab_link": true
    },
    "kernelspec": {
      "name": "python3",
      "display_name": "Python 3"
    },
    "language_info": {
      "name": "python"
    }
  },
  "cells": [
    {
      "cell_type": "markdown",
      "metadata": {
        "id": "view-in-github",
        "colab_type": "text"
      },
      "source": [
        "<a href=\"https://colab.research.google.com/github/vaishnavipatil29/NN_DL_Lab/blob/main/Lab6_1.ipynb\" target=\"_parent\"><img src=\"https://colab.research.google.com/assets/colab-badge.svg\" alt=\"Open In Colab\"/></a>"
      ]
    },
    {
      "cell_type": "markdown",
      "source": [
        "# LAB 6 : Recurrent Neural Networks\n",
        "\n",
        "Name : Vaishnavi, Joshitha\n",
        "\n",
        "Roll Number : 180020039, 180020008\n",
        "\n",
        "Referrence Material : \n",
        "\n",
        "1. https://github.com/pangolulu/rnn-from-scratch\n",
        "2. https://www.analyticsvidhya.com/blog/2019/01/fundamentals-deep-learning-recurrent-neural-networks-scratch-python/\n"
      ],
      "metadata": {
        "id": "8mqXpEeWhf7X"
      }
    },
    {
      "cell_type": "markdown",
      "source": [
        "#**Problem 1** : Next Token Prediction in a Sequence\n",
        "\n",
        "Observation to be demonstrated:\n",
        "\n",
        "1. Generate the data required\n",
        "2. Represent tokens as indices using dictionaries\n",
        "3. Convert the tokens into vectors using One hot encoding\n",
        "4. Implement Recurrent Neural Network to solve the Next token prediction problem"
      ],
      "metadata": {
        "id": "EtHrn2eXhmdN"
      }
    },
    {
      "cell_type": "markdown",
      "source": [
        "##Write down the Objectives, Hypothesis and Experimental description for the above problem\n",
        "\n"
      ],
      "metadata": {
        "id": "UQQQrokDhp5W"
      }
    },
    {
      "cell_type": "markdown",
      "source": [
        "Objectives : Implement RNN, and make it predict the next letter in the sequence. \n",
        "\n",
        "Hypothesis : The RNN should redict the next sequence. \n",
        "\n",
        "Experimental description : 1. Create the aprropiate dataset. \n",
        "\n",
        "2. Implement RNN\n",
        "\n",
        "3. See the predictions.\n"
      ],
      "metadata": {
        "id": "XnwyeTeVhqpx"
      }
    },
    {
      "cell_type": "markdown",
      "source": [
        "## Programming : \n"
      ],
      "metadata": {
        "id": "8JoALkrXhrHG"
      }
    },
    {
      "cell_type": "markdown",
      "source": [
        "1. **Representing tokens or text**\n",
        "\n",
        "In previous labs we mainly considered data $x \\in \\mathrm{R}^d$, where $d$ is the feature space dimension.\n",
        "With time sequences our data can be represented as $x \\in \\mathrm{R}^{t \\, \\times \\, d}$, where $t$ is the sequence length. \n",
        "This emphasises sequence dependence and that the samples along the sequence are not independent and identically distributed (i.i.d.).\n",
        "We will model functions as $\\mathrm{R}^{t \\, \\times \\, d} \\rightarrow \\mathrm{R}^c$, where $c$ is the amount of classes in the output.\n",
        "\n",
        "There are several ways to represent sequences. With text, the challenge is how to represent a word as a feature vector in $d$ dimensions, as we are required to represent text with decimal numbers in order to apply neural networks to it.\n",
        "\n",
        "In this exercise we will use a simple one-hot encoding but for categorical variables that can take on many values (e.g. words in the English language) this may be infeasible. For such scenarios, you can project the encodings into a smaller space by use of embeddings."
      ],
      "metadata": {
        "id": "h3duSEPZlEq_"
      }
    },
    {
      "cell_type": "markdown",
      "source": [
        "2. **One-hot encoding over vocabulary**\n",
        "\n",
        "One way to represent a fixed amount of words is by making a one-hot encoded vector, which consists of 0s in all cells with the exception of a single 1 in a cell used uniquely to identify each word.\n",
        "\n",
        "| vocabulary    | one-hot encoded vector   |\n",
        "| ------------- |--------------------------|\n",
        "| Paris         | $= [1, 0, 0, \\ldots, 0]$ |\n",
        "| Rome          | $= [0, 1, 0, \\ldots, 0]$ |\n",
        "| Copenhagen    | $= [0, 0, 1, \\ldots, 0]$ |\n",
        "\n",
        "Representing a large vocabulary with one-hot encodings often becomes inefficient because of the size of each sparse vector.\n",
        "To overcome this challenge it is common practice to truncate the vocabulary to contain the $k$ most used words and represent the rest with a special symbol, $\\mathtt{UNK}$, to define unknown/unimportant words.\n",
        "This often causes entities such as names to be represented with $\\mathtt{UNK}$ because they are rare.\n",
        "\n",
        "Consider the following text\n",
        "> I love the corny jokes in Spielberg's new movie.\n",
        "\n",
        "where an example result would be similar to\n",
        "> I love the corny jokes in $\\mathtt{UNK}$'s new movie."
      ],
      "metadata": {
        "id": "OdZUdeSQlbaO"
      }
    },
    {
      "cell_type": "markdown",
      "source": [
        "## Generating a dataset\n",
        "\n",
        "For this exercise we will create a simple dataset that we can learn from. We generate sequences of the form:\n",
        "\n",
        "`a a a a b b b b EOS`, `a a b b EOS`, `a a a a a b b b b b EOS`\n",
        "\n",
        "where `EOS` is a special character denoting the end of a sequence. The task is to predict the next token $t_n$, i.e. `a`, `b`, `EOS` or the unknown token `UNK` given the sequence of tokens $\\{ t_{1}, t_{2}, \\dots , t_{n-1}\\}$ and we are to process sequences in a sequential manner. As such, the network will need to learn that e.g. 5 `b`s and an `EOS` token will occur following 5 `a`s."
      ],
      "metadata": {
        "id": "PYhxG_0yljV8"
      }
    },
    {
      "cell_type": "code",
      "execution_count": null,
      "metadata": {
        "colab": {
          "base_uri": "https://localhost:8080/"
        },
        "id": "5e6FzDlsheny",
        "outputId": "ab8a9ace-9571-4c89-cfd4-271d7ebfe639"
      },
      "outputs": [
        {
          "output_type": "stream",
          "name": "stdout",
          "text": [
            "A single sample from the generated dataset:\n",
            "['a', 'a', 'a', 'a', 'a', 'a', 'b', 'b', 'b', 'b', 'b', 'b', 'EOS']\n"
          ]
        }
      ],
      "source": [
        "import numpy as np\n",
        "import sys\n",
        "\n",
        "def generate_dataset(num_sequences=500):\n",
        "    \"\"\"\n",
        "    Generates a number of sequences as our dataset.\n",
        "    \n",
        "    Input :\n",
        "     `num_sequences`: the number of sequences to be generated.\n",
        "     \n",
        "    Returns a list of sequences.\n",
        "    \"\"\"\n",
        "    samples = []\n",
        "    \n",
        "    ## Write your code here\n",
        "    \n",
        "    for i in range(num_sequences): \n",
        "        num_tokens = np.random.randint(5, 8)\n",
        "        sample = ['a'] * num_tokens + ['b'] * num_tokens + ['EOS']\n",
        "        samples.append(sample)\n",
        "\n",
        "    return samples\n",
        "\n",
        "\n",
        "sequences = generate_dataset()\n",
        "\n",
        "print('A single sample from the generated dataset:')\n",
        "print(sequences[0])"
      ]
    },
    {
      "cell_type": "markdown",
      "source": [
        "## Representing tokens as indices\n",
        "\n",
        "To build a one-hot encoding, we need to assign each possible word in our vocabulary an index. We do that by creating two dictionaries: one that allows us to go from a given word to its corresponding index in our vocabulary, and one for the reverse direction. Let's call them `word_to_idx` and `idx_to_word`. The keyword `num_words` specifies the maximum size of our vocabulary. If we try to access a word that does not exist in our vocabulary, it is automatically replaced by the `UNK` token or its corresponding index."
      ],
      "metadata": {
        "id": "ZOssF34fmCJV"
      }
    },
    {
      "cell_type": "code",
      "source": [
        "# from collections import defaultdict\n",
        "\n",
        "def sequences_to_dicts(sequences):\n",
        "    \"\"\"\n",
        "    Create word_to_idx and idx_to_word dictionaries for a list of sequences.\n",
        "    \"\"\"\n",
        "\n",
        "    ## Write your code here\n",
        "    num_sequences = len(sequences)\n",
        "   # words= ['a','b', 'EOS', 'UNK']\n",
        "    x = np.array(sequences[0])\n",
        "    words = list(np.unique(x))\n",
        "    words.append('UNK') \n",
        "    word_to_idx = {k:v for v,k in enumerate(words)}\n",
        "    idx_to_word = {v:k for v,k in enumerate(words)}\n",
        "    vocab_size = len(words)\n",
        "    return word_to_idx, idx_to_word, num_sequences, vocab_size\n",
        "\n",
        "\n",
        "word_to_idx, idx_to_word, num_sequences, vocab_size = sequences_to_dicts(sequences)\n",
        "\n",
        "print(\"Word to Index Dictionary : \",dict(word_to_idx))\n",
        "print(\"Index to Word Dictionary : \",dict(idx_to_word))\n",
        "print(\"Number of Sequences : \",num_sequences)\n",
        "print(\"Vocab Size : \",vocab_size)\n"
      ],
      "metadata": {
        "colab": {
          "base_uri": "https://localhost:8080/"
        },
        "id": "kd4-PHrSl-oV",
        "outputId": "24739fe4-8a6c-4b8b-a5e1-6095759334a1"
      },
      "execution_count": null,
      "outputs": [
        {
          "output_type": "stream",
          "name": "stdout",
          "text": [
            "Word to Index Dictionary :  {'EOS': 0, 'a': 1, 'b': 2, 'UNK': 3}\n",
            "Index to Word Dictionary :  {0: 'EOS', 1: 'a', 2: 'b', 3: 'UNK'}\n",
            "Number of Sequences :  500\n",
            "Vocab Size :  4\n"
          ]
        }
      ]
    },
    {
      "cell_type": "markdown",
      "source": [
        "## Creating Dataset \n",
        "\n",
        "To build our dataset, we need to create inputs and targets for each sequences and partition sentences it into training and test sets. 80% and 20% is a common distribution, but mind you that this largely depends on the size of the dataset. **Since we are doing next-word predictions, our target sequence is simply the input sequence shifted by one word.**"
      ],
      "metadata": {
        "id": "qa3EMnoem5RE"
      }
    },
    {
      "cell_type": "code",
      "source": [
        "    \n",
        "def create_datasets(sequences, p_train=0.8, p_test=0.2):\n",
        "    # Define partition sizes\n",
        "      num_train = int(len(sequences)*p_train)\n",
        "      num_test = int(len(sequences)*p_test)\n",
        "\n",
        "      # Split sequences into partitions\n",
        "      sequences_train = sequences[:num_train]\n",
        "      sequences_test = sequences[-num_test:]\n",
        "\n",
        "      def get_inputs_targets_from_sequences(sequences):\n",
        "          # Define empty lists\n",
        "          inputs, targets = [], []\n",
        "          \n",
        "          # Append inputs and targets s.t. both lists contain L-1 words of a sentence of length L\n",
        "          # but targets are shifted right by one so that we can predict the next word\n",
        "\n",
        "          ## Write your code here\n",
        "                  # Define empty lists\n",
        "          inputs, targets = [], []\n",
        "          \n",
        "          # Append inputs and targets s.t. both lists contain L-1 words of a sentence of length L\n",
        "          # but targets are shifted right by one so that we can predict the next word\n",
        "          for sequence in sequences:\n",
        "              inputs.append(sequence[:-1])\n",
        "              targets.append(sequence[1:])\n",
        "\n",
        "\n",
        "              \n",
        "          return inputs, targets\n",
        "\n",
        "      # Get inputs and targets for each partition\n",
        "      inputs_train, targets_train = get_inputs_targets_from_sequences(sequences_train)\n",
        "      inputs_test, targets_test = get_inputs_targets_from_sequences(sequences_test)\n",
        "      \n",
        "\n",
        "      return inputs_train,targets_train,inputs_test,targets_test\n",
        "    \n",
        "\n",
        "x_train,y_train,x_test,y_test = create_datasets(sequences)\n",
        "\n",
        "print(\"Input for the first training sample : \",x_train[0])\n",
        "print(\"Target output for the first training sample : \",y_train[0])\n"
      ],
      "metadata": {
        "colab": {
          "base_uri": "https://localhost:8080/"
        },
        "id": "67EBwhExm6RY",
        "outputId": "bacdf759-88e9-43a3-c583-bfd18427a63f"
      },
      "execution_count": null,
      "outputs": [
        {
          "output_type": "stream",
          "name": "stdout",
          "text": [
            "Input for the first training sample :  ['a', 'a', 'a', 'a', 'a', 'a', 'b', 'b', 'b', 'b', 'b', 'b']\n",
            "Target output for the first training sample :  ['a', 'a', 'a', 'a', 'a', 'b', 'b', 'b', 'b', 'b', 'b', 'EOS']\n"
          ]
        }
      ]
    },
    {
      "cell_type": "code",
      "source": [
        "from torch.utils import data\n",
        "\n",
        "class Dataset(data.Dataset):\n",
        "    def __init__(self, inputs, targets):\n",
        "        self.inputs = inputs\n",
        "        self.targets = targets\n",
        "\n",
        "    def __len__(self):\n",
        "        # Return the size of the dataset\n",
        "        return len(self.targets)\n",
        "\n",
        "    def __getitem__(self, index):\n",
        "        # Retrieve inputs and targets at the given index\n",
        "        X = self.inputs[index]\n",
        "        y = self.targets[index]\n",
        "\n",
        "        return X, y\n",
        "\n",
        "    \n",
        "def create_datasets(sequences, dataset_class, p_train=0.8, p_val=0.1, p_test=0.1):\n",
        "    # Define partition sizes\n",
        "    num_train = int(len(sequences)*p_train)\n",
        "    num_val = int(len(sequences)*p_val)\n",
        "    num_test = int(len(sequences)*p_test)\n",
        "\n",
        "    # Split sequences into partitions\n",
        "    sequences_train = sequences[:num_train]\n",
        "    sequences_val = sequences[num_train:num_train+num_val]\n",
        "    sequences_test = sequences[-num_test:]\n",
        "\n",
        "    def get_inputs_targets_from_sequences(sequences):\n",
        "        # Define empty lists\n",
        "        inputs, targets = [], []\n",
        "        \n",
        "        # Append inputs and targets s.t. both lists contain L-1 words of a sentence of length L\n",
        "        # but targets are shifted right by one so that we can predict the next word\n",
        "        for sequence in sequences:\n",
        "            inputs.append(sequence[:-1])\n",
        "            targets.append(sequence[1:])\n",
        "            \n",
        "        return inputs, targets\n",
        "\n",
        "    # Get inputs and targets for each partition\n",
        "    inputs_train, targets_train = get_inputs_targets_from_sequences(sequences_train)\n",
        "    inputs_val, targets_val = get_inputs_targets_from_sequences(sequences_val)\n",
        "    inputs_test, targets_test = get_inputs_targets_from_sequences(sequences_test)\n",
        "\n",
        "    # Create datasets\n",
        "    training_set = dataset_class(inputs_train, targets_train)\n",
        "    validation_set = dataset_class(inputs_val, targets_val)\n",
        "    test_set = dataset_class(inputs_test, targets_test)\n",
        "\n",
        "    return training_set, validation_set, test_set\n",
        "    \n",
        "\n",
        "training_set, validation_set, test_set = create_datasets(sequences, Dataset)\n",
        "\n",
        "print(f'We have {len(training_set)} samples in the training set.')\n",
        "print(f'We have {len(validation_set)} samples in the validation set.')\n",
        "print(f'We have {len(test_set)} samples in the test set.')"
      ],
      "metadata": {
        "colab": {
          "base_uri": "https://localhost:8080/"
        },
        "id": "WS31V2C3o481",
        "outputId": "89054738-4355-4c4e-e4e6-171056a6d30d"
      },
      "execution_count": null,
      "outputs": [
        {
          "output_type": "stream",
          "name": "stdout",
          "text": [
            "We have 400 samples in the training set.\n",
            "We have 50 samples in the validation set.\n",
            "We have 50 samples in the test set.\n"
          ]
        }
      ]
    },
    {
      "cell_type": "markdown",
      "source": [
        "## One-hot encodings\n",
        "\n",
        "We now create a simple function that returns the one-hot encoded representation of a given index of a word in our vocabulary. Notice that the shape of the one-hot encoding is equal to the vocabulary (which can be huge!). Additionally, we define a function to automatically one-hot encode a sentence."
      ],
      "metadata": {
        "id": "XT8pAPFVpr1E"
      }
    },
    {
      "cell_type": "code",
      "source": [
        "def one_hot_encode(idx, vocab_size):\n",
        "    \"\"\"\n",
        "    One-hot encodes a single word given its index and the size of the vocabulary.\n",
        "    \n",
        "    Input :\n",
        "     `idx`: the index of the given word\n",
        "     `vocab_size`: the size of the vocabulary\n",
        "    \n",
        "    Returns a 1-D numpy array of length `vocab_size`.\n",
        "    \"\"\"\n",
        "    # Initialize the encoded array\n",
        "    one_hot = np.zeros(vocab_size)\n",
        "    \n",
        "    # Set the appropriate element to one\n",
        "    one_hot[idx] = 1.0\n",
        "\n",
        "    return one_hot\n",
        "\n",
        "\n",
        "def one_hot_encode_sequence(sequence, vocab_size):\n",
        "    \"\"\"\n",
        "    One-hot encodes a sequence of words given a fixed vocabulary size.\n",
        "    \n",
        "    Input :\n",
        "     `sentence`: a list of words to encode\n",
        "     `vocab_size`: the size of the vocabulary\n",
        "     \n",
        "    Returns a 3-D numpy array of shape (num words, vocab size, 1).\n",
        "    \"\"\"\n",
        "    # Encode each word in the sentence\n",
        "    encoding = np.array([one_hot_encode(word_to_idx[word], vocab_size) for word in sequence])\n",
        "\n",
        "    # Reshape encoding s.t. it has shape (num words, vocab size, 1)\n",
        "    encoding = encoding.reshape(encoding.shape[0], encoding.shape[1], 1)\n",
        "    \n",
        "    return encoding\n",
        "\n",
        "\n",
        "test_word = one_hot_encode(word_to_idx['a'], vocab_size)\n",
        "print(f'Our one-hot encoding of \\'a\\' is {test_word}.')\n",
        "print(f'Our one-hot encoding of \\'a\\' has shape {test_word.shape}.')\n",
        "\n",
        "test_sentence = one_hot_encode_sequence(['a', 'b'], vocab_size)\n",
        "print(f'Our one-hot encoding of \\'a b\\' is {test_sentence}.')\n",
        "print(f'Our one-hot encoding of \\'a b\\' has shape {test_sentence.shape}.')"
      ],
      "metadata": {
        "colab": {
          "base_uri": "https://localhost:8080/"
        },
        "id": "932mDevcoqh0",
        "outputId": "4bb4f753-8bfa-4083-dc5a-ab540d8e97cb"
      },
      "execution_count": null,
      "outputs": [
        {
          "output_type": "stream",
          "name": "stdout",
          "text": [
            "Our one-hot encoding of 'a' is [0. 1. 0. 0.].\n",
            "Our one-hot encoding of 'a' has shape (4,).\n",
            "Our one-hot encoding of 'a b' is [[[0.]\n",
            "  [1.]\n",
            "  [0.]\n",
            "  [0.]]\n",
            "\n",
            " [[0.]\n",
            "  [0.]\n",
            "  [1.]\n",
            "  [0.]]].\n",
            "Our one-hot encoding of 'a b' has shape (2, 4, 1).\n"
          ]
        }
      ]
    },
    {
      "cell_type": "code",
      "source": [
        ""
      ],
      "metadata": {
        "id": "GycLKC7DZ4q2"
      },
      "execution_count": null,
      "outputs": []
    },
    {
      "cell_type": "markdown",
      "source": [
        "\n",
        "## Implementation of RNN : \n",
        "\n",
        "A recurrent neural network (RNN) is a type of neural network that has been succesful in modelling sequential data, e.g. language, speech, protein sequences, etc.\n",
        "\n",
        "A RNN performs its computations in a cyclic manner, where the same computation is applied to every sample of a given sequence.\n",
        "The idea is that the network should be able to use the previous computations as some form of memory and apply this to future computations.\n",
        "An image may best explain how this is to be understood,\n",
        "\n",
        "![rnn-unroll image](https://github.com/DeepLearningDTU/02456-deep-learning-with-PyTorch/blob/master/static_files/rnn-unfold.png?raw=1)\n",
        "\n",
        "\n",
        "where it the network contains the following elements:\n",
        "\n",
        "- $x$ is the input sequence of samples, \n",
        "- $U$ is a weight matrix applied to the given input sample,\n",
        "- $V$ is a weight matrix used for the recurrent computation in order to pass memory along the sequence,\n",
        "- $W$ is a weight matrix used to compute the output of the every timestep (given that every timestep requires an output),\n",
        "- $h$ is the hidden state (the network's memory) for a given time step, and\n",
        "- $o$ is the resulting output.\n",
        "\n",
        "When the network is unrolled as shown, it is easier to refer to a timestep, $t$.\n",
        "We have the following computations through the network:\n",
        "\n",
        "- $h_t = f(U\\,{x_t} + V\\,{h_{t-1}})$, where $f$ usually is an activation function, e.g. $\\mathrm{tanh}$.\n",
        "- $o_t = \\mathrm{softmax}(W\\,{h_t})$\n",
        "\n",
        "\n",
        "**Steps :** \n",
        "\n",
        "  1. Implement Forward Pass, Backward Pass and Optimisation\n",
        "  2. Write the training loop\n",
        "  3. Take care of the exploding gradient problem by clipping the gradients "
      ],
      "metadata": {
        "id": "hSRldtQdZ6UJ"
      }
    },
    {
      "cell_type": "markdown",
      "source": [
        "![image.png](data:image/png;base64,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)"
      ],
      "metadata": {
        "id": "kKFjtkBkWcwE"
      }
    },
    {
      "cell_type": "markdown",
      "source": [
        "Parameters (W, U, V) are shared in different time steps. And the output in each time step can be softmax. So we used cross entropy loss as an error function"
      ],
      "metadata": {
        "id": "6uM3rdsGWcy2"
      }
    },
    {
      "cell_type": "markdown",
      "source": [
        "![image.png](data:image/png;base64,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)"
      ],
      "metadata": {
        "id": "ZFWVL4-5XPlo"
      }
    },
    {
      "cell_type": "markdown",
      "source": [
        "![image.png](data:image/png;base64,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)"
      ],
      "metadata": {
        "id": "Bqkjm45uXPpI"
      }
    },
    {
      "cell_type": "markdown",
      "source": [
        "y_t is the correct word at time step t, and y^_t is our prediction. "
      ],
      "metadata": {
        "id": "N2vPqAQ2XPr6"
      }
    },
    {
      "cell_type": "code",
      "source": [
        "class MultiplyGate:\n",
        "    def forward(self,W, x):\n",
        "        return np.dot(W, x)\n",
        "    def backward(self, W, x, dz):\n",
        "        dW = np.asarray(np.dot(np.transpose(np.asmatrix(dz)), np.asmatrix(x)))\n",
        "        dx = np.dot(np.transpose(W), dz)\n",
        "        return dW, dx\n",
        "\n",
        "class AddGate:\n",
        "    def forward(self, x1, x2):\n",
        "        return x1 + x2\n",
        "    def backward(self, x1, x2, dz):\n",
        "        dx1 = dz * np.ones_like(x1)\n",
        "        dx2 = dz * np.ones_like(x2)\n",
        "        return dx1, dx2"
      ],
      "metadata": {
        "id": "26k2JMU69tW6"
      },
      "execution_count": null,
      "outputs": []
    },
    {
      "cell_type": "code",
      "source": [
        "class Sigmoid:\n",
        "    def forward(self, x):\n",
        "        return 1.0 / (1.0 + np.exp(-x))\n",
        "    def backward(self, x, top_diff):\n",
        "        output = self.forward(x)\n",
        "        return (1.0 - output) * output * top_diff\n",
        "\n",
        "class Tanh:\n",
        "    def forward(self, x):\n",
        "        return np.tanh(x)\n",
        "    def backward(self, x, top_diff):\n",
        "        output = self.forward(x)\n",
        "        return (1.0 - np.square(output)) * top_diff"
      ],
      "metadata": {
        "id": "qTM5d8qe9z_t"
      },
      "execution_count": null,
      "outputs": []
    },
    {
      "cell_type": "code",
      "source": [
        "mulGate = MultiplyGate()\n",
        "addGate = AddGate()\n",
        "activation = Tanh()\n",
        "\n",
        "class RNNLayer:\n",
        "    def forward(self, x, prev_s, U, W, V):\n",
        "        self.mulu = mulGate.forward(U, x)\n",
        "        self.mulw = mulGate.forward(W, prev_s)\n",
        "        self.add = addGate.forward(self.mulw, self.mulu)\n",
        "        self.s = activation.forward(self.add)\n",
        "        self.mulv = mulGate.forward(V, self.s)\n",
        "        \n",
        "    def backward(self, x, prev_s, U, W, V, diff_s, dmulv):\n",
        "        self.forward(x, prev_s, U, W, V)\n",
        "        dV, dsv = mulGate.backward(V, self.s, dmulv)\n",
        "        ds = dsv + diff_s\n",
        "        dadd = activation.backward(self.add, ds)\n",
        "        dmulw, dmulu = addGate.backward(self.mulw, self.mulu, dadd)\n",
        "        dW, dprev_s = mulGate.backward(W, prev_s, dmulw)\n",
        "        dU, dx = mulGate.backward(U, x, dmulu)\n",
        "        return (dprev_s, dU, dW, dV)\n"
      ],
      "metadata": {
        "id": "dqZF-LTs9w98"
      },
      "execution_count": null,
      "outputs": []
    },
    {
      "cell_type": "code",
      "source": [
        "class Softmax:\n",
        "    def predict(self, x):\n",
        "        exp_scores = np.exp(x)\n",
        "        return exp_scores / np.sum(exp_scores)\n",
        "    def loss(self, x, y):\n",
        "        probs = self.predict(x)\n",
        "        y = np.argmax(one_hot_encode(word_to_idx[y], vocab_size))\n",
        "        return -np.log(probs[y])\n",
        "    def diff(self, x, y):\n",
        "        probs = self.predict(x)\n",
        "        y = np.argmax(one_hot_encode(word_to_idx[y], vocab_size))\n",
        "        probs[y] -= 1.0\n",
        "        return probs"
      ],
      "metadata": {
        "id": "gWKwv22w92z6"
      },
      "execution_count": null,
      "outputs": []
    },
    {
      "cell_type": "markdown",
      "source": [
        "Initializing the parameters U, V and W is a bit tricky. We can’t just initialize them to 0’s because that would result in symmetric calculations in all our layers. We must initialize them randomly. Because proper initialization seems to have an impact on training results there has been lot of research in this area. It turns out that the best initialization depends on the activation function (tanh in our case) and one recommended approach is to initialize the weights randomly in the interval from  where n is the number of incoming connections from the previous layer.\n",
        "\n"
      ],
      "metadata": {
        "id": "HHFJDsUIaIDy"
      }
    },
    {
      "cell_type": "code",
      "source": [
        "class Model:\n",
        "    def __init__(self, word_dim = vocab_size, hidden_dim=100, bptt_truncate=4):\n",
        "        self.word_dim = word_dim\n",
        "        self.hidden_dim = hidden_dim\n",
        "        self.bptt_truncate = bptt_truncate\n",
        "        self.U = np.random.uniform(-np.sqrt(1. / word_dim), np.sqrt(1. / word_dim), (hidden_dim, word_dim))\n",
        "        self.W = np.random.uniform(-np.sqrt(1. / hidden_dim), np.sqrt(1. / hidden_dim), (hidden_dim, hidden_dim))\n",
        "        self.V = np.random.uniform(-np.sqrt(1. / hidden_dim), np.sqrt(1. / hidden_dim), (word_dim, hidden_dim))\n",
        "\n",
        "\n",
        "      \n",
        "    def forward_propagation(self, x):\n",
        "        # The total number of time steps\n",
        "        T = len(x)\n",
        "        layers = []\n",
        "        prev_s = np.zeros(self.hidden_dim)\n",
        "        # For each time step...\n",
        "        for t in range(T):\n",
        "            layer = RNNLayer()\n",
        "            input = np.zeros(self.word_dim)\n",
        "            input[np.argmax(one_hot_encode_sequence(x[t], vocab_size))] = 1\n",
        "            layer.forward(input, prev_s, self.U, self.W, self.V)\n",
        "            prev_s = layer.s\n",
        "            layers.append(layer)\n",
        "        return layers\n",
        "\n",
        "    def predict(self, x):\n",
        "      output = Softmax()\n",
        "      layers = self.forward_propagation(x)\n",
        "      return [np.argmax(output.predict(layer.mulv)) for layer in layers]\n",
        "\n",
        "#To train our network we need a way to measure the errors it makes. \n",
        "#We call this the loss function L, and our goal is find the parameters U, V and W that minimize the loss function for our training data.\n",
        "# A common choice for the loss function is the cross-entropy loss.\n",
        "\n",
        "    def calculate_loss(self, x, y):\n",
        "      assert len(x) == len(y)\n",
        "      output = Softmax()\n",
        "      layers = self.forward_propagation(x)\n",
        "      loss = 0.0\n",
        "      for i, layer in enumerate(layers):\n",
        "          loss += output.loss(layer.mulv, y[i])\n",
        "      return loss / float(len(y))\n",
        "\n",
        "    def calculate_total_loss(self, X, Y):\n",
        "        loss = 0.0\n",
        "        for i in range(len(Y)):\n",
        "            loss += self.calculate_loss(X[i], Y[i])\n",
        "        return loss / float(len(Y))\n",
        "\n",
        "#Backpropagation Through Time (BPTT)\n",
        "# It takes as input a training example (x, y) and returns the gradients dW, dU and dV.\n",
        "#After the forward propagation step, we calculate the gradients at each layer, and backpropagate the errors.\n",
        "# We will use truncated back propagation through time (TBPTT), instead of vanilla backprop. \n",
        "#It may sound complex but its actually pretty straight forward.\n",
        "#The core difference in BPTT versus backprop is that the backpropagation step is done for all the time steps in the RNN layer\n",
        "\n",
        "\n",
        "# BPTT seems very computationally expensive. So instead of backpropagating through all previous timestep, \n",
        "# we backpropagate till x timesteps to save computational power.\n",
        "\n",
        "    def bptt(self, x, y):\n",
        "        assert len(x) == len(y)\n",
        "        output = Softmax()\n",
        "        layers = self.forward_propagation(x)\n",
        "        dU = np.zeros(self.U.shape)\n",
        "        dV = np.zeros(self.V.shape)\n",
        "        dW = np.zeros(self.W.shape)\n",
        "\n",
        "        T = len(layers)\n",
        "        prev_s_t = np.zeros(self.hidden_dim)\n",
        "        diff_s = np.zeros(self.hidden_dim)\n",
        "        for t in range(0, T):\n",
        "            dmulv = output.diff(layers[t].mulv, y[t])\n",
        "            input = np.zeros(self.word_dim)\n",
        "            input[np.argmax(one_hot_encode_sequence(x[t], vocab_size))] = 1\n",
        "            dprev_s, dU_t, dW_t, dV_t = layers[t].backward(input, prev_s_t, self.U, self.W, self.V, diff_s, dmulv)\n",
        "            prev_s_t = layers[t].s\n",
        "            dmulv = np.zeros(self.word_dim)\n",
        "            for i in range(t-1, max(-1, t-self.bptt_truncate-1), -1):\n",
        "                input = np.zeros(self.word_dim)\n",
        "                input[np.argmax(one_hot_encode_sequence(x[i], vocab_size))] = 1\n",
        "                prev_s_i = np.zeros(self.hidden_dim) if i == 0 else layers[i-1].s\n",
        "                dprev_s, dU_i, dW_i, dV_i = layers[i].backward(input, prev_s_i, self.U, self.W, self.V, dprev_s, dmulv)\n",
        "                dU_t += dU_i\n",
        "                dW_t += dW_i\n",
        "            dV += dV_t\n",
        "            dU += dU_t\n",
        "            dW += dW_t\n",
        "        return (dU, dW, dV)\n",
        "#SGD Implementation\n",
        "\n",
        "#A function sdg_step that calculates the gradients and performs the updates for one batch.\n",
        "#An outer loop that iterates through the training set and adjusts the learning rate.\n",
        "\n",
        "    def sgd_step(self, x, y, learning_rate):\n",
        "      dU, dW, dV = self.bptt(x, y)\n",
        "      self.U -= learning_rate * dU\n",
        "      self.V -= learning_rate * dV\n",
        "      self.W -= learning_rate * dW\n",
        "   \n",
        "    def train(self, X, Y, learning_rate=0.005, nepoch=100, evaluate_loss_after=5):\n",
        "        num_examples_seen = 0\n",
        "        losses = []\n",
        "        losses_ = []\n",
        "        for epoch in range(nepoch):\n",
        "            if (epoch % evaluate_loss_after == 0):\n",
        "                loss = self.calculate_total_loss(X, Y)\n",
        "                losses.append((num_examples_seen, loss))\n",
        "                losses_.append(loss)\n",
        "                #time = datetime.now().strftime('%Y-%m-%d %H:%M:%S')\n",
        "                print(\"Loss  epoch=%d: %f\" % ( epoch, loss))\n",
        "                # Adjust the learning rate if loss increases\n",
        "                if len(losses) > 1 and losses[-1][1] > losses[-2][1]:\n",
        "                    learning_rate = learning_rate * 0.5\n",
        "                    print(\"Setting learning rate to %f\" % learning_rate)\n",
        "                sys.stdout.flush()\n",
        "            # For each training example...\n",
        "            for i in range(len(Y)):\n",
        "                self.sgd_step(X[i], Y[i], learning_rate)\n",
        "                num_examples_seen += 1\n",
        "        return losses_ \n",
        "\n",
        "\n",
        "\n"
      ],
      "metadata": {
        "id": "RPbYmQiS97Cz"
      },
      "execution_count": null,
      "outputs": []
    },
    {
      "cell_type": "code",
      "source": [
        "word_dim = vocab_size\n",
        "hidden_dim = 100\n",
        "#X_train, y_train = getSentenceData('data/reddit-comments-2015-08.csv', word_dim)\n",
        "\n",
        "np.random.seed(10)\n",
        "np.random.seed(10)\n",
        "rnn = Model(word_dim, hidden_dim)\n",
        "import matplotlib.pyplot as plt\n",
        "\n",
        "losses = rnn.train(x_train, y_train, learning_rate=0.005, nepoch=30, evaluate_loss_after=1)\n",
        "plt.plot(losses)"
      ],
      "metadata": {
        "colab": {
          "base_uri": "https://localhost:8080/",
          "height": 820
        },
        "id": "An-Mc6H2-uNc",
        "outputId": "76aa3d9d-addf-4c22-fe00-29396e76cc18"
      },
      "execution_count": null,
      "outputs": [
        {
          "output_type": "stream",
          "name": "stdout",
          "text": [
            "Loss  epoch=0: 1.465246\n",
            "Loss  epoch=1: 0.224260\n",
            "Loss  epoch=2: 0.197639\n",
            "Loss  epoch=3: 0.164028\n",
            "Loss  epoch=4: 0.158445\n",
            "Loss  epoch=5: 0.103547\n",
            "Loss  epoch=6: 0.097960\n",
            "Loss  epoch=7: 0.103314\n",
            "Setting learning rate to 0.002500\n",
            "Loss  epoch=8: 0.097724\n",
            "Loss  epoch=9: 0.097240\n",
            "Loss  epoch=10: 0.096915\n",
            "Loss  epoch=11: 0.096680\n",
            "Loss  epoch=12: 0.096505\n",
            "Loss  epoch=13: 0.096370\n",
            "Loss  epoch=14: 0.096264\n",
            "Loss  epoch=15: 0.096176\n",
            "Loss  epoch=16: 0.096103\n",
            "Loss  epoch=17: 0.096041\n",
            "Loss  epoch=18: 0.095987\n",
            "Loss  epoch=19: 0.095939\n",
            "Loss  epoch=20: 0.095896\n",
            "Loss  epoch=21: 0.095858\n",
            "Loss  epoch=22: 0.095824\n",
            "Loss  epoch=23: 0.095792\n",
            "Loss  epoch=24: 0.095764\n",
            "Loss  epoch=25: 0.095738\n",
            "Loss  epoch=26: 0.095715\n",
            "Loss  epoch=27: 0.095693\n",
            "Loss  epoch=28: 0.095672\n",
            "Loss  epoch=29: 0.095653\n"
          ]
        },
        {
          "output_type": "execute_result",
          "data": {
            "text/plain": [
              "[<matplotlib.lines.Line2D at 0x7f85b2d43590>]"
            ]
          },
          "metadata": {},
          "execution_count": 11
        },
        {
          "output_type": "display_data",
          "data": {
            "image/png": "[encoded data removed]",
            "text/plain": [
              "<Figure size 432x288 with 1 Axes>"
            ]
          },
          "metadata": {
            "needs_background": "light"
          }
        }
      ]
    },
    {
      "cell_type": "markdown",
      "source": [
        "Testing On Test Dataset"
      ],
      "metadata": {
        "id": "7rZaBTW5bcuM"
      }
    },
    {
      "cell_type": "code",
      "source": [
        "output_seq = []\n",
        "cnt = 0\n",
        "for i in range(len(x_test)):\n",
        "       \n",
        "        pred = rnn.predict(x_test[i])\n",
        "        predicted = [idx_to_word[id] for id in pred]\n",
        "        print(\"Predicted :  \",predicted)\n",
        "        print(\"Actual seq : \", y_test[i])\n",
        "        print(\"Original seq:\", x_test[i])\n",
        "        print()\n",
        "        if predicted == y_test[i]:\n",
        "          cnt = cnt + 1\n",
        "        actual = y_test\n",
        "        output_seq.append(predicted) "
      ],
      "metadata": {
        "id": "IUSOuesdOiFv",
        "colab": {
          "base_uri": "https://localhost:8080/"
        },
        "outputId": "098e4092-c5a0-4374-d773-5c8f9ec2e338"
      },
      "execution_count": null,
      "outputs": [
        {
          "output_type": "stream",
          "name": "stdout",
          "text": [
            "Predicted :   ['a', 'a', 'a', 'a', 'a', 'a', 'b', 'b', 'b', 'b', 'b', 'b', 'b', 'EOS']\n",
            "Actual seq :  ['a', 'a', 'a', 'a', 'a', 'a', 'b', 'b', 'b', 'b', 'b', 'b', 'b', 'EOS']\n",
            "Original seq: ['a', 'a', 'a', 'a', 'a', 'a', 'a', 'b', 'b', 'b', 'b', 'b', 'b', 'b']\n",
            "\n",
            "Predicted :   ['a', 'a', 'a', 'a', 'a', 'a', 'b', 'b', 'b', 'b', 'b', 'EOS']\n",
            "Actual seq :  ['a', 'a', 'a', 'a', 'a', 'b', 'b', 'b', 'b', 'b', 'b', 'EOS']\n",
            "Original seq: ['a', 'a', 'a', 'a', 'a', 'a', 'b', 'b', 'b', 'b', 'b', 'b']\n",
            "\n",
            "Predicted :   ['a', 'a', 'a', 'a', 'a', 'a', 'b', 'b', 'b', 'b', 'b', 'b', 'b', 'EOS']\n",
            "Actual seq :  ['a', 'a', 'a', 'a', 'a', 'a', 'b', 'b', 'b', 'b', 'b', 'b', 'b', 'EOS']\n",
            "Original seq: ['a', 'a', 'a', 'a', 'a', 'a', 'a', 'b', 'b', 'b', 'b', 'b', 'b', 'b']\n",
            "\n",
            "Predicted :   ['a', 'a', 'a', 'a', 'a', 'a', 'b', 'b', 'b', 'b', 'b', 'b', 'b', 'EOS']\n",
            "Actual seq :  ['a', 'a', 'a', 'a', 'a', 'a', 'b', 'b', 'b', 'b', 'b', 'b', 'b', 'EOS']\n",
            "Original seq: ['a', 'a', 'a', 'a', 'a', 'a', 'a', 'b', 'b', 'b', 'b', 'b', 'b', 'b']\n",
            "\n",
            "Predicted :   ['a', 'a', 'a', 'a', 'a', 'a', 'b', 'b', 'b', 'b', 'b', 'b', 'b', 'EOS']\n",
            "Actual seq :  ['a', 'a', 'a', 'a', 'a', 'a', 'b', 'b', 'b', 'b', 'b', 'b', 'b', 'EOS']\n",
            "Original seq: ['a', 'a', 'a', 'a', 'a', 'a', 'a', 'b', 'b', 'b', 'b', 'b', 'b', 'b']\n",
            "\n",
            "Predicted :   ['a', 'a', 'a', 'a', 'a', 'b', 'b', 'b', 'b', 'EOS']\n",
            "Actual seq :  ['a', 'a', 'a', 'a', 'b', 'b', 'b', 'b', 'b', 'EOS']\n",
            "Original seq: ['a', 'a', 'a', 'a', 'a', 'b', 'b', 'b', 'b', 'b']\n",
            "\n",
            "Predicted :   ['a', 'a', 'a', 'a', 'a', 'b', 'b', 'b', 'b', 'EOS']\n",
            "Actual seq :  ['a', 'a', 'a', 'a', 'b', 'b', 'b', 'b', 'b', 'EOS']\n",
            "Original seq: ['a', 'a', 'a', 'a', 'a', 'b', 'b', 'b', 'b', 'b']\n",
            "\n",
            "Predicted :   ['a', 'a', 'a', 'a', 'a', 'a', 'b', 'b', 'b', 'b', 'b', 'EOS']\n",
            "Actual seq :  ['a', 'a', 'a', 'a', 'a', 'b', 'b', 'b', 'b', 'b', 'b', 'EOS']\n",
            "Original seq: ['a', 'a', 'a', 'a', 'a', 'a', 'b', 'b', 'b', 'b', 'b', 'b']\n",
            "\n",
            "Predicted :   ['a', 'a', 'a', 'a', 'a', 'a', 'b', 'b', 'b', 'b', 'b', 'EOS']\n",
            "Actual seq :  ['a', 'a', 'a', 'a', 'a', 'b', 'b', 'b', 'b', 'b', 'b', 'EOS']\n",
            "Original seq: ['a', 'a', 'a', 'a', 'a', 'a', 'b', 'b', 'b', 'b', 'b', 'b']\n",
            "\n",
            "Predicted :   ['a', 'a', 'a', 'a', 'a', 'a', 'b', 'b', 'b', 'b', 'b', 'EOS']\n",
            "Actual seq :  ['a', 'a', 'a', 'a', 'a', 'b', 'b', 'b', 'b', 'b', 'b', 'EOS']\n",
            "Original seq: ['a', 'a', 'a', 'a', 'a', 'a', 'b', 'b', 'b', 'b', 'b', 'b']\n",
            "\n",
            "Predicted :   ['a', 'a', 'a', 'a', 'a', 'a', 'b', 'b', 'b', 'b', 'b', 'EOS']\n",
            "Actual seq :  ['a', 'a', 'a', 'a', 'a', 'b', 'b', 'b', 'b', 'b', 'b', 'EOS']\n",
            "Original seq: ['a', 'a', 'a', 'a', 'a', 'a', 'b', 'b', 'b', 'b', 'b', 'b']\n",
            "\n",
            "Predicted :   ['a', 'a', 'a', 'a', 'a', 'a', 'b', 'b', 'b', 'b', 'b', 'b', 'b', 'EOS']\n",
            "Actual seq :  ['a', 'a', 'a', 'a', 'a', 'a', 'b', 'b', 'b', 'b', 'b', 'b', 'b', 'EOS']\n",
            "Original seq: ['a', 'a', 'a', 'a', 'a', 'a', 'a', 'b', 'b', 'b', 'b', 'b', 'b', 'b']\n",
            "\n",
            "Predicted :   ['a', 'a', 'a', 'a', 'a', 'b', 'b', 'b', 'b', 'EOS']\n",
            "Actual seq :  ['a', 'a', 'a', 'a', 'b', 'b', 'b', 'b', 'b', 'EOS']\n",
            "Original seq: ['a', 'a', 'a', 'a', 'a', 'b', 'b', 'b', 'b', 'b']\n",
            "\n",
            "Predicted :   ['a', 'a', 'a', 'a', 'a', 'a', 'b', 'b', 'b', 'b', 'b', 'EOS']\n",
            "Actual seq :  ['a', 'a', 'a', 'a', 'a', 'b', 'b', 'b', 'b', 'b', 'b', 'EOS']\n",
            "Original seq: ['a', 'a', 'a', 'a', 'a', 'a', 'b', 'b', 'b', 'b', 'b', 'b']\n",
            "\n",
            "Predicted :   ['a', 'a', 'a', 'a', 'a', 'a', 'b', 'b', 'b', 'b', 'b', 'EOS']\n",
            "Actual seq :  ['a', 'a', 'a', 'a', 'a', 'b', 'b', 'b', 'b', 'b', 'b', 'EOS']\n",
            "Original seq: ['a', 'a', 'a', 'a', 'a', 'a', 'b', 'b', 'b', 'b', 'b', 'b']\n",
            "\n",
            "Predicted :   ['a', 'a', 'a', 'a', 'a', 'b', 'b', 'b', 'b', 'EOS']\n",
            "Actual seq :  ['a', 'a', 'a', 'a', 'b', 'b', 'b', 'b', 'b', 'EOS']\n",
            "Original seq: ['a', 'a', 'a', 'a', 'a', 'b', 'b', 'b', 'b', 'b']\n",
            "\n",
            "Predicted :   ['a', 'a', 'a', 'a', 'a', 'b', 'b', 'b', 'b', 'EOS']\n",
            "Actual seq :  ['a', 'a', 'a', 'a', 'b', 'b', 'b', 'b', 'b', 'EOS']\n",
            "Original seq: ['a', 'a', 'a', 'a', 'a', 'b', 'b', 'b', 'b', 'b']\n",
            "\n",
            "Predicted :   ['a', 'a', 'a', 'a', 'a', 'a', 'b', 'b', 'b', 'b', 'b', 'b', 'b', 'EOS']\n",
            "Actual seq :  ['a', 'a', 'a', 'a', 'a', 'a', 'b', 'b', 'b', 'b', 'b', 'b', 'b', 'EOS']\n",
            "Original seq: ['a', 'a', 'a', 'a', 'a', 'a', 'a', 'b', 'b', 'b', 'b', 'b', 'b', 'b']\n",
            "\n",
            "Predicted :   ['a', 'a', 'a', 'a', 'a', 'a', 'b', 'b', 'b', 'b', 'b', 'EOS']\n",
            "Actual seq :  ['a', 'a', 'a', 'a', 'a', 'b', 'b', 'b', 'b', 'b', 'b', 'EOS']\n",
            "Original seq: ['a', 'a', 'a', 'a', 'a', 'a', 'b', 'b', 'b', 'b', 'b', 'b']\n",
            "\n",
            "Predicted :   ['a', 'a', 'a', 'a', 'a', 'a', 'b', 'b', 'b', 'b', 'b', 'EOS']\n",
            "Actual seq :  ['a', 'a', 'a', 'a', 'a', 'b', 'b', 'b', 'b', 'b', 'b', 'EOS']\n",
            "Original seq: ['a', 'a', 'a', 'a', 'a', 'a', 'b', 'b', 'b', 'b', 'b', 'b']\n",
            "\n",
            "Predicted :   ['a', 'a', 'a', 'a', 'a', 'a', 'b', 'b', 'b', 'b', 'b', 'EOS']\n",
            "Actual seq :  ['a', 'a', 'a', 'a', 'a', 'b', 'b', 'b', 'b', 'b', 'b', 'EOS']\n",
            "Original seq: ['a', 'a', 'a', 'a', 'a', 'a', 'b', 'b', 'b', 'b', 'b', 'b']\n",
            "\n",
            "Predicted :   ['a', 'a', 'a', 'a', 'a', 'b', 'b', 'b', 'b', 'EOS']\n",
            "Actual seq :  ['a', 'a', 'a', 'a', 'b', 'b', 'b', 'b', 'b', 'EOS']\n",
            "Original seq: ['a', 'a', 'a', 'a', 'a', 'b', 'b', 'b', 'b', 'b']\n",
            "\n",
            "Predicted :   ['a', 'a', 'a', 'a', 'a', 'a', 'b', 'b', 'b', 'b', 'b', 'EOS']\n",
            "Actual seq :  ['a', 'a', 'a', 'a', 'a', 'b', 'b', 'b', 'b', 'b', 'b', 'EOS']\n",
            "Original seq: ['a', 'a', 'a', 'a', 'a', 'a', 'b', 'b', 'b', 'b', 'b', 'b']\n",
            "\n",
            "Predicted :   ['a', 'a', 'a', 'a', 'a', 'a', 'b', 'b', 'b', 'b', 'b', 'b', 'b', 'EOS']\n",
            "Actual seq :  ['a', 'a', 'a', 'a', 'a', 'a', 'b', 'b', 'b', 'b', 'b', 'b', 'b', 'EOS']\n",
            "Original seq: ['a', 'a', 'a', 'a', 'a', 'a', 'a', 'b', 'b', 'b', 'b', 'b', 'b', 'b']\n",
            "\n",
            "Predicted :   ['a', 'a', 'a', 'a', 'a', 'a', 'b', 'b', 'b', 'b', 'b', 'EOS']\n",
            "Actual seq :  ['a', 'a', 'a', 'a', 'a', 'b', 'b', 'b', 'b', 'b', 'b', 'EOS']\n",
            "Original seq: ['a', 'a', 'a', 'a', 'a', 'a', 'b', 'b', 'b', 'b', 'b', 'b']\n",
            "\n",
            "Predicted :   ['a', 'a', 'a', 'a', 'a', 'a', 'b', 'b', 'b', 'b', 'b', 'EOS']\n",
            "Actual seq :  ['a', 'a', 'a', 'a', 'a', 'b', 'b', 'b', 'b', 'b', 'b', 'EOS']\n",
            "Original seq: ['a', 'a', 'a', 'a', 'a', 'a', 'b', 'b', 'b', 'b', 'b', 'b']\n",
            "\n",
            "Predicted :   ['a', 'a', 'a', 'a', 'a', 'a', 'b', 'b', 'b', 'b', 'b', 'b', 'b', 'EOS']\n",
            "Actual seq :  ['a', 'a', 'a', 'a', 'a', 'a', 'b', 'b', 'b', 'b', 'b', 'b', 'b', 'EOS']\n",
            "Original seq: ['a', 'a', 'a', 'a', 'a', 'a', 'a', 'b', 'b', 'b', 'b', 'b', 'b', 'b']\n",
            "\n",
            "Predicted :   ['a', 'a', 'a', 'a', 'a', 'a', 'b', 'b', 'b', 'b', 'b', 'EOS']\n",
            "Actual seq :  ['a', 'a', 'a', 'a', 'a', 'b', 'b', 'b', 'b', 'b', 'b', 'EOS']\n",
            "Original seq: ['a', 'a', 'a', 'a', 'a', 'a', 'b', 'b', 'b', 'b', 'b', 'b']\n",
            "\n",
            "Predicted :   ['a', 'a', 'a', 'a', 'a', 'a', 'b', 'b', 'b', 'b', 'b', 'EOS']\n",
            "Actual seq :  ['a', 'a', 'a', 'a', 'a', 'b', 'b', 'b', 'b', 'b', 'b', 'EOS']\n",
            "Original seq: ['a', 'a', 'a', 'a', 'a', 'a', 'b', 'b', 'b', 'b', 'b', 'b']\n",
            "\n",
            "Predicted :   ['a', 'a', 'a', 'a', 'a', 'a', 'b', 'b', 'b', 'b', 'b', 'EOS']\n",
            "Actual seq :  ['a', 'a', 'a', 'a', 'a', 'b', 'b', 'b', 'b', 'b', 'b', 'EOS']\n",
            "Original seq: ['a', 'a', 'a', 'a', 'a', 'a', 'b', 'b', 'b', 'b', 'b', 'b']\n",
            "\n",
            "Predicted :   ['a', 'a', 'a', 'a', 'a', 'a', 'b', 'b', 'b', 'b', 'b', 'EOS']\n",
            "Actual seq :  ['a', 'a', 'a', 'a', 'a', 'b', 'b', 'b', 'b', 'b', 'b', 'EOS']\n",
            "Original seq: ['a', 'a', 'a', 'a', 'a', 'a', 'b', 'b', 'b', 'b', 'b', 'b']\n",
            "\n",
            "Predicted :   ['a', 'a', 'a', 'a', 'a', 'b', 'b', 'b', 'b', 'EOS']\n",
            "Actual seq :  ['a', 'a', 'a', 'a', 'b', 'b', 'b', 'b', 'b', 'EOS']\n",
            "Original seq: ['a', 'a', 'a', 'a', 'a', 'b', 'b', 'b', 'b', 'b']\n",
            "\n",
            "Predicted :   ['a', 'a', 'a', 'a', 'a', 'a', 'b', 'b', 'b', 'b', 'b', 'EOS']\n",
            "Actual seq :  ['a', 'a', 'a', 'a', 'a', 'b', 'b', 'b', 'b', 'b', 'b', 'EOS']\n",
            "Original seq: ['a', 'a', 'a', 'a', 'a', 'a', 'b', 'b', 'b', 'b', 'b', 'b']\n",
            "\n",
            "Predicted :   ['a', 'a', 'a', 'a', 'a', 'a', 'b', 'b', 'b', 'b', 'b', 'b', 'b', 'EOS']\n",
            "Actual seq :  ['a', 'a', 'a', 'a', 'a', 'a', 'b', 'b', 'b', 'b', 'b', 'b', 'b', 'EOS']\n",
            "Original seq: ['a', 'a', 'a', 'a', 'a', 'a', 'a', 'b', 'b', 'b', 'b', 'b', 'b', 'b']\n",
            "\n",
            "Predicted :   ['a', 'a', 'a', 'a', 'a', 'b', 'b', 'b', 'b', 'EOS']\n",
            "Actual seq :  ['a', 'a', 'a', 'a', 'b', 'b', 'b', 'b', 'b', 'EOS']\n",
            "Original seq: ['a', 'a', 'a', 'a', 'a', 'b', 'b', 'b', 'b', 'b']\n",
            "\n",
            "Predicted :   ['a', 'a', 'a', 'a', 'a', 'b', 'b', 'b', 'b', 'EOS']\n",
            "Actual seq :  ['a', 'a', 'a', 'a', 'b', 'b', 'b', 'b', 'b', 'EOS']\n",
            "Original seq: ['a', 'a', 'a', 'a', 'a', 'b', 'b', 'b', 'b', 'b']\n",
            "\n",
            "Predicted :   ['a', 'a', 'a', 'a', 'a', 'a', 'b', 'b', 'b', 'b', 'b', 'EOS']\n",
            "Actual seq :  ['a', 'a', 'a', 'a', 'a', 'b', 'b', 'b', 'b', 'b', 'b', 'EOS']\n",
            "Original seq: ['a', 'a', 'a', 'a', 'a', 'a', 'b', 'b', 'b', 'b', 'b', 'b']\n",
            "\n",
            "Predicted :   ['a', 'a', 'a', 'a', 'a', 'a', 'b', 'b', 'b', 'b', 'b', 'b', 'b', 'EOS']\n",
            "Actual seq :  ['a', 'a', 'a', 'a', 'a', 'a', 'b', 'b', 'b', 'b', 'b', 'b', 'b', 'EOS']\n",
            "Original seq: ['a', 'a', 'a', 'a', 'a', 'a', 'a', 'b', 'b', 'b', 'b', 'b', 'b', 'b']\n",
            "\n",
            "Predicted :   ['a', 'a', 'a', 'a', 'a', 'a', 'b', 'b', 'b', 'b', 'b', 'b', 'b', 'EOS']\n",
            "Actual seq :  ['a', 'a', 'a', 'a', 'a', 'a', 'b', 'b', 'b', 'b', 'b', 'b', 'b', 'EOS']\n",
            "Original seq: ['a', 'a', 'a', 'a', 'a', 'a', 'a', 'b', 'b', 'b', 'b', 'b', 'b', 'b']\n",
            "\n",
            "Predicted :   ['a', 'a', 'a', 'a', 'a', 'a', 'b', 'b', 'b', 'b', 'b', 'b', 'b', 'EOS']\n",
            "Actual seq :  ['a', 'a', 'a', 'a', 'a', 'a', 'b', 'b', 'b', 'b', 'b', 'b', 'b', 'EOS']\n",
            "Original seq: ['a', 'a', 'a', 'a', 'a', 'a', 'a', 'b', 'b', 'b', 'b', 'b', 'b', 'b']\n",
            "\n",
            "Predicted :   ['a', 'a', 'a', 'a', 'a', 'a', 'b', 'b', 'b', 'b', 'b', 'EOS']\n",
            "Actual seq :  ['a', 'a', 'a', 'a', 'a', 'b', 'b', 'b', 'b', 'b', 'b', 'EOS']\n",
            "Original seq: ['a', 'a', 'a', 'a', 'a', 'a', 'b', 'b', 'b', 'b', 'b', 'b']\n",
            "\n",
            "Predicted :   ['a', 'a', 'a', 'a', 'a', 'a', 'b', 'b', 'b', 'b', 'b', 'EOS']\n",
            "Actual seq :  ['a', 'a', 'a', 'a', 'a', 'b', 'b', 'b', 'b', 'b', 'b', 'EOS']\n",
            "Original seq: ['a', 'a', 'a', 'a', 'a', 'a', 'b', 'b', 'b', 'b', 'b', 'b']\n",
            "\n",
            "Predicted :   ['a', 'a', 'a', 'a', 'a', 'a', 'b', 'b', 'b', 'b', 'b', 'b', 'b', 'EOS']\n",
            "Actual seq :  ['a', 'a', 'a', 'a', 'a', 'a', 'b', 'b', 'b', 'b', 'b', 'b', 'b', 'EOS']\n",
            "Original seq: ['a', 'a', 'a', 'a', 'a', 'a', 'a', 'b', 'b', 'b', 'b', 'b', 'b', 'b']\n",
            "\n",
            "Predicted :   ['a', 'a', 'a', 'a', 'a', 'b', 'b', 'b', 'b', 'EOS']\n",
            "Actual seq :  ['a', 'a', 'a', 'a', 'b', 'b', 'b', 'b', 'b', 'EOS']\n",
            "Original seq: ['a', 'a', 'a', 'a', 'a', 'b', 'b', 'b', 'b', 'b']\n",
            "\n",
            "Predicted :   ['a', 'a', 'a', 'a', 'a', 'b', 'b', 'b', 'b', 'EOS']\n",
            "Actual seq :  ['a', 'a', 'a', 'a', 'b', 'b', 'b', 'b', 'b', 'EOS']\n",
            "Original seq: ['a', 'a', 'a', 'a', 'a', 'b', 'b', 'b', 'b', 'b']\n",
            "\n",
            "Predicted :   ['a', 'a', 'a', 'a', 'a', 'b', 'b', 'b', 'b', 'EOS']\n",
            "Actual seq :  ['a', 'a', 'a', 'a', 'b', 'b', 'b', 'b', 'b', 'EOS']\n",
            "Original seq: ['a', 'a', 'a', 'a', 'a', 'b', 'b', 'b', 'b', 'b']\n",
            "\n",
            "Predicted :   ['a', 'a', 'a', 'a', 'a', 'b', 'b', 'b', 'b', 'EOS']\n",
            "Actual seq :  ['a', 'a', 'a', 'a', 'b', 'b', 'b', 'b', 'b', 'EOS']\n",
            "Original seq: ['a', 'a', 'a', 'a', 'a', 'b', 'b', 'b', 'b', 'b']\n",
            "\n",
            "Predicted :   ['a', 'a', 'a', 'a', 'a', 'a', 'b', 'b', 'b', 'b', 'b', 'b', 'b', 'EOS']\n",
            "Actual seq :  ['a', 'a', 'a', 'a', 'a', 'a', 'b', 'b', 'b', 'b', 'b', 'b', 'b', 'EOS']\n",
            "Original seq: ['a', 'a', 'a', 'a', 'a', 'a', 'a', 'b', 'b', 'b', 'b', 'b', 'b', 'b']\n",
            "\n",
            "Predicted :   ['a', 'a', 'a', 'a', 'a', 'a', 'b', 'b', 'b', 'b', 'b', 'b', 'b', 'EOS']\n",
            "Actual seq :  ['a', 'a', 'a', 'a', 'a', 'a', 'b', 'b', 'b', 'b', 'b', 'b', 'b', 'EOS']\n",
            "Original seq: ['a', 'a', 'a', 'a', 'a', 'a', 'a', 'b', 'b', 'b', 'b', 'b', 'b', 'b']\n",
            "\n",
            "Predicted :   ['a', 'a', 'a', 'a', 'a', 'a', 'b', 'b', 'b', 'b', 'b', 'EOS']\n",
            "Actual seq :  ['a', 'a', 'a', 'a', 'a', 'b', 'b', 'b', 'b', 'b', 'b', 'EOS']\n",
            "Original seq: ['a', 'a', 'a', 'a', 'a', 'a', 'b', 'b', 'b', 'b', 'b', 'b']\n",
            "\n",
            "Predicted :   ['a', 'a', 'a', 'a', 'a', 'b', 'b', 'b', 'b', 'EOS']\n",
            "Actual seq :  ['a', 'a', 'a', 'a', 'b', 'b', 'b', 'b', 'b', 'EOS']\n",
            "Original seq: ['a', 'a', 'a', 'a', 'a', 'b', 'b', 'b', 'b', 'b']\n",
            "\n",
            "Predicted :   ['a', 'a', 'a', 'a', 'a', 'b', 'b', 'b', 'b', 'EOS']\n",
            "Actual seq :  ['a', 'a', 'a', 'a', 'b', 'b', 'b', 'b', 'b', 'EOS']\n",
            "Original seq: ['a', 'a', 'a', 'a', 'a', 'b', 'b', 'b', 'b', 'b']\n",
            "\n",
            "Predicted :   ['a', 'a', 'a', 'a', 'a', 'b', 'b', 'b', 'b', 'EOS']\n",
            "Actual seq :  ['a', 'a', 'a', 'a', 'b', 'b', 'b', 'b', 'b', 'EOS']\n",
            "Original seq: ['a', 'a', 'a', 'a', 'a', 'b', 'b', 'b', 'b', 'b']\n",
            "\n",
            "Predicted :   ['a', 'a', 'a', 'a', 'a', 'a', 'b', 'b', 'b', 'b', 'b', 'b', 'b', 'EOS']\n",
            "Actual seq :  ['a', 'a', 'a', 'a', 'a', 'a', 'b', 'b', 'b', 'b', 'b', 'b', 'b', 'EOS']\n",
            "Original seq: ['a', 'a', 'a', 'a', 'a', 'a', 'a', 'b', 'b', 'b', 'b', 'b', 'b', 'b']\n",
            "\n",
            "Predicted :   ['a', 'a', 'a', 'a', 'a', 'a', 'b', 'b', 'b', 'b', 'b', 'EOS']\n",
            "Actual seq :  ['a', 'a', 'a', 'a', 'a', 'b', 'b', 'b', 'b', 'b', 'b', 'EOS']\n",
            "Original seq: ['a', 'a', 'a', 'a', 'a', 'a', 'b', 'b', 'b', 'b', 'b', 'b']\n",
            "\n",
            "Predicted :   ['a', 'a', 'a', 'a', 'a', 'a', 'b', 'b', 'b', 'b', 'b', 'EOS']\n",
            "Actual seq :  ['a', 'a', 'a', 'a', 'a', 'b', 'b', 'b', 'b', 'b', 'b', 'EOS']\n",
            "Original seq: ['a', 'a', 'a', 'a', 'a', 'a', 'b', 'b', 'b', 'b', 'b', 'b']\n",
            "\n",
            "Predicted :   ['a', 'a', 'a', 'a', 'a', 'a', 'b', 'b', 'b', 'b', 'b', 'b', 'b', 'EOS']\n",
            "Actual seq :  ['a', 'a', 'a', 'a', 'a', 'a', 'b', 'b', 'b', 'b', 'b', 'b', 'b', 'EOS']\n",
            "Original seq: ['a', 'a', 'a', 'a', 'a', 'a', 'a', 'b', 'b', 'b', 'b', 'b', 'b', 'b']\n",
            "\n",
            "Predicted :   ['a', 'a', 'a', 'a', 'a', 'b', 'b', 'b', 'b', 'EOS']\n",
            "Actual seq :  ['a', 'a', 'a', 'a', 'b', 'b', 'b', 'b', 'b', 'EOS']\n",
            "Original seq: ['a', 'a', 'a', 'a', 'a', 'b', 'b', 'b', 'b', 'b']\n",
            "\n",
            "Predicted :   ['a', 'a', 'a', 'a', 'a', 'a', 'b', 'b', 'b', 'b', 'b', 'b', 'b', 'EOS']\n",
            "Actual seq :  ['a', 'a', 'a', 'a', 'a', 'a', 'b', 'b', 'b', 'b', 'b', 'b', 'b', 'EOS']\n",
            "Original seq: ['a', 'a', 'a', 'a', 'a', 'a', 'a', 'b', 'b', 'b', 'b', 'b', 'b', 'b']\n",
            "\n",
            "Predicted :   ['a', 'a', 'a', 'a', 'a', 'a', 'b', 'b', 'b', 'b', 'b', 'b', 'b', 'EOS']\n",
            "Actual seq :  ['a', 'a', 'a', 'a', 'a', 'a', 'b', 'b', 'b', 'b', 'b', 'b', 'b', 'EOS']\n",
            "Original seq: ['a', 'a', 'a', 'a', 'a', 'a', 'a', 'b', 'b', 'b', 'b', 'b', 'b', 'b']\n",
            "\n",
            "Predicted :   ['a', 'a', 'a', 'a', 'a', 'b', 'b', 'b', 'b', 'EOS']\n",
            "Actual seq :  ['a', 'a', 'a', 'a', 'b', 'b', 'b', 'b', 'b', 'EOS']\n",
            "Original seq: ['a', 'a', 'a', 'a', 'a', 'b', 'b', 'b', 'b', 'b']\n",
            "\n",
            "Predicted :   ['a', 'a', 'a', 'a', 'a', 'a', 'b', 'b', 'b', 'b', 'b', 'b', 'b', 'EOS']\n",
            "Actual seq :  ['a', 'a', 'a', 'a', 'a', 'a', 'b', 'b', 'b', 'b', 'b', 'b', 'b', 'EOS']\n",
            "Original seq: ['a', 'a', 'a', 'a', 'a', 'a', 'a', 'b', 'b', 'b', 'b', 'b', 'b', 'b']\n",
            "\n",
            "Predicted :   ['a', 'a', 'a', 'a', 'a', 'b', 'b', 'b', 'b', 'EOS']\n",
            "Actual seq :  ['a', 'a', 'a', 'a', 'b', 'b', 'b', 'b', 'b', 'EOS']\n",
            "Original seq: ['a', 'a', 'a', 'a', 'a', 'b', 'b', 'b', 'b', 'b']\n",
            "\n",
            "Predicted :   ['a', 'a', 'a', 'a', 'a', 'a', 'b', 'b', 'b', 'b', 'b', 'b', 'b', 'EOS']\n",
            "Actual seq :  ['a', 'a', 'a', 'a', 'a', 'a', 'b', 'b', 'b', 'b', 'b', 'b', 'b', 'EOS']\n",
            "Original seq: ['a', 'a', 'a', 'a', 'a', 'a', 'a', 'b', 'b', 'b', 'b', 'b', 'b', 'b']\n",
            "\n",
            "Predicted :   ['a', 'a', 'a', 'a', 'a', 'b', 'b', 'b', 'b', 'EOS']\n",
            "Actual seq :  ['a', 'a', 'a', 'a', 'b', 'b', 'b', 'b', 'b', 'EOS']\n",
            "Original seq: ['a', 'a', 'a', 'a', 'a', 'b', 'b', 'b', 'b', 'b']\n",
            "\n",
            "Predicted :   ['a', 'a', 'a', 'a', 'a', 'b', 'b', 'b', 'b', 'EOS']\n",
            "Actual seq :  ['a', 'a', 'a', 'a', 'b', 'b', 'b', 'b', 'b', 'EOS']\n",
            "Original seq: ['a', 'a', 'a', 'a', 'a', 'b', 'b', 'b', 'b', 'b']\n",
            "\n",
            "Predicted :   ['a', 'a', 'a', 'a', 'a', 'a', 'b', 'b', 'b', 'b', 'b', 'EOS']\n",
            "Actual seq :  ['a', 'a', 'a', 'a', 'a', 'b', 'b', 'b', 'b', 'b', 'b', 'EOS']\n",
            "Original seq: ['a', 'a', 'a', 'a', 'a', 'a', 'b', 'b', 'b', 'b', 'b', 'b']\n",
            "\n",
            "Predicted :   ['a', 'a', 'a', 'a', 'a', 'a', 'b', 'b', 'b', 'b', 'b', 'b', 'b', 'EOS']\n",
            "Actual seq :  ['a', 'a', 'a', 'a', 'a', 'a', 'b', 'b', 'b', 'b', 'b', 'b', 'b', 'EOS']\n",
            "Original seq: ['a', 'a', 'a', 'a', 'a', 'a', 'a', 'b', 'b', 'b', 'b', 'b', 'b', 'b']\n",
            "\n",
            "Predicted :   ['a', 'a', 'a', 'a', 'a', 'a', 'b', 'b', 'b', 'b', 'b', 'EOS']\n",
            "Actual seq :  ['a', 'a', 'a', 'a', 'a', 'b', 'b', 'b', 'b', 'b', 'b', 'EOS']\n",
            "Original seq: ['a', 'a', 'a', 'a', 'a', 'a', 'b', 'b', 'b', 'b', 'b', 'b']\n",
            "\n",
            "Predicted :   ['a', 'a', 'a', 'a', 'a', 'a', 'b', 'b', 'b', 'b', 'b', 'EOS']\n",
            "Actual seq :  ['a', 'a', 'a', 'a', 'a', 'b', 'b', 'b', 'b', 'b', 'b', 'EOS']\n",
            "Original seq: ['a', 'a', 'a', 'a', 'a', 'a', 'b', 'b', 'b', 'b', 'b', 'b']\n",
            "\n",
            "Predicted :   ['a', 'a', 'a', 'a', 'a', 'a', 'b', 'b', 'b', 'b', 'b', 'EOS']\n",
            "Actual seq :  ['a', 'a', 'a', 'a', 'a', 'b', 'b', 'b', 'b', 'b', 'b', 'EOS']\n",
            "Original seq: ['a', 'a', 'a', 'a', 'a', 'a', 'b', 'b', 'b', 'b', 'b', 'b']\n",
            "\n",
            "Predicted :   ['a', 'a', 'a', 'a', 'a', 'b', 'b', 'b', 'b', 'EOS']\n",
            "Actual seq :  ['a', 'a', 'a', 'a', 'b', 'b', 'b', 'b', 'b', 'EOS']\n",
            "Original seq: ['a', 'a', 'a', 'a', 'a', 'b', 'b', 'b', 'b', 'b']\n",
            "\n",
            "Predicted :   ['a', 'a', 'a', 'a', 'a', 'b', 'b', 'b', 'b', 'EOS']\n",
            "Actual seq :  ['a', 'a', 'a', 'a', 'b', 'b', 'b', 'b', 'b', 'EOS']\n",
            "Original seq: ['a', 'a', 'a', 'a', 'a', 'b', 'b', 'b', 'b', 'b']\n",
            "\n",
            "Predicted :   ['a', 'a', 'a', 'a', 'a', 'a', 'b', 'b', 'b', 'b', 'b', 'EOS']\n",
            "Actual seq :  ['a', 'a', 'a', 'a', 'a', 'b', 'b', 'b', 'b', 'b', 'b', 'EOS']\n",
            "Original seq: ['a', 'a', 'a', 'a', 'a', 'a', 'b', 'b', 'b', 'b', 'b', 'b']\n",
            "\n",
            "Predicted :   ['a', 'a', 'a', 'a', 'a', 'b', 'b', 'b', 'b', 'EOS']\n",
            "Actual seq :  ['a', 'a', 'a', 'a', 'b', 'b', 'b', 'b', 'b', 'EOS']\n",
            "Original seq: ['a', 'a', 'a', 'a', 'a', 'b', 'b', 'b', 'b', 'b']\n",
            "\n",
            "Predicted :   ['a', 'a', 'a', 'a', 'a', 'b', 'b', 'b', 'b', 'EOS']\n",
            "Actual seq :  ['a', 'a', 'a', 'a', 'b', 'b', 'b', 'b', 'b', 'EOS']\n",
            "Original seq: ['a', 'a', 'a', 'a', 'a', 'b', 'b', 'b', 'b', 'b']\n",
            "\n",
            "Predicted :   ['a', 'a', 'a', 'a', 'a', 'b', 'b', 'b', 'b', 'EOS']\n",
            "Actual seq :  ['a', 'a', 'a', 'a', 'b', 'b', 'b', 'b', 'b', 'EOS']\n",
            "Original seq: ['a', 'a', 'a', 'a', 'a', 'b', 'b', 'b', 'b', 'b']\n",
            "\n",
            "Predicted :   ['a', 'a', 'a', 'a', 'a', 'a', 'b', 'b', 'b', 'b', 'b', 'b', 'b', 'EOS']\n",
            "Actual seq :  ['a', 'a', 'a', 'a', 'a', 'a', 'b', 'b', 'b', 'b', 'b', 'b', 'b', 'EOS']\n",
            "Original seq: ['a', 'a', 'a', 'a', 'a', 'a', 'a', 'b', 'b', 'b', 'b', 'b', 'b', 'b']\n",
            "\n",
            "Predicted :   ['a', 'a', 'a', 'a', 'a', 'b', 'b', 'b', 'b', 'EOS']\n",
            "Actual seq :  ['a', 'a', 'a', 'a', 'b', 'b', 'b', 'b', 'b', 'EOS']\n",
            "Original seq: ['a', 'a', 'a', 'a', 'a', 'b', 'b', 'b', 'b', 'b']\n",
            "\n",
            "Predicted :   ['a', 'a', 'a', 'a', 'a', 'b', 'b', 'b', 'b', 'EOS']\n",
            "Actual seq :  ['a', 'a', 'a', 'a', 'b', 'b', 'b', 'b', 'b', 'EOS']\n",
            "Original seq: ['a', 'a', 'a', 'a', 'a', 'b', 'b', 'b', 'b', 'b']\n",
            "\n",
            "Predicted :   ['a', 'a', 'a', 'a', 'a', 'a', 'b', 'b', 'b', 'b', 'b', 'EOS']\n",
            "Actual seq :  ['a', 'a', 'a', 'a', 'a', 'b', 'b', 'b', 'b', 'b', 'b', 'EOS']\n",
            "Original seq: ['a', 'a', 'a', 'a', 'a', 'a', 'b', 'b', 'b', 'b', 'b', 'b']\n",
            "\n",
            "Predicted :   ['a', 'a', 'a', 'a', 'a', 'a', 'b', 'b', 'b', 'b', 'b', 'EOS']\n",
            "Actual seq :  ['a', 'a', 'a', 'a', 'a', 'b', 'b', 'b', 'b', 'b', 'b', 'EOS']\n",
            "Original seq: ['a', 'a', 'a', 'a', 'a', 'a', 'b', 'b', 'b', 'b', 'b', 'b']\n",
            "\n",
            "Predicted :   ['a', 'a', 'a', 'a', 'a', 'a', 'b', 'b', 'b', 'b', 'b', 'EOS']\n",
            "Actual seq :  ['a', 'a', 'a', 'a', 'a', 'b', 'b', 'b', 'b', 'b', 'b', 'EOS']\n",
            "Original seq: ['a', 'a', 'a', 'a', 'a', 'a', 'b', 'b', 'b', 'b', 'b', 'b']\n",
            "\n",
            "Predicted :   ['a', 'a', 'a', 'a', 'a', 'a', 'b', 'b', 'b', 'b', 'b', 'b', 'b', 'EOS']\n",
            "Actual seq :  ['a', 'a', 'a', 'a', 'a', 'a', 'b', 'b', 'b', 'b', 'b', 'b', 'b', 'EOS']\n",
            "Original seq: ['a', 'a', 'a', 'a', 'a', 'a', 'a', 'b', 'b', 'b', 'b', 'b', 'b', 'b']\n",
            "\n",
            "Predicted :   ['a', 'a', 'a', 'a', 'a', 'b', 'b', 'b', 'b', 'EOS']\n",
            "Actual seq :  ['a', 'a', 'a', 'a', 'b', 'b', 'b', 'b', 'b', 'EOS']\n",
            "Original seq: ['a', 'a', 'a', 'a', 'a', 'b', 'b', 'b', 'b', 'b']\n",
            "\n",
            "Predicted :   ['a', 'a', 'a', 'a', 'a', 'a', 'b', 'b', 'b', 'b', 'b', 'EOS']\n",
            "Actual seq :  ['a', 'a', 'a', 'a', 'a', 'b', 'b', 'b', 'b', 'b', 'b', 'EOS']\n",
            "Original seq: ['a', 'a', 'a', 'a', 'a', 'a', 'b', 'b', 'b', 'b', 'b', 'b']\n",
            "\n",
            "Predicted :   ['a', 'a', 'a', 'a', 'a', 'b', 'b', 'b', 'b', 'EOS']\n",
            "Actual seq :  ['a', 'a', 'a', 'a', 'b', 'b', 'b', 'b', 'b', 'EOS']\n",
            "Original seq: ['a', 'a', 'a', 'a', 'a', 'b', 'b', 'b', 'b', 'b']\n",
            "\n",
            "Predicted :   ['a', 'a', 'a', 'a', 'a', 'a', 'b', 'b', 'b', 'b', 'b', 'EOS']\n",
            "Actual seq :  ['a', 'a', 'a', 'a', 'a', 'b', 'b', 'b', 'b', 'b', 'b', 'EOS']\n",
            "Original seq: ['a', 'a', 'a', 'a', 'a', 'a', 'b', 'b', 'b', 'b', 'b', 'b']\n",
            "\n",
            "Predicted :   ['a', 'a', 'a', 'a', 'a', 'a', 'b', 'b', 'b', 'b', 'b', 'b', 'b', 'EOS']\n",
            "Actual seq :  ['a', 'a', 'a', 'a', 'a', 'a', 'b', 'b', 'b', 'b', 'b', 'b', 'b', 'EOS']\n",
            "Original seq: ['a', 'a', 'a', 'a', 'a', 'a', 'a', 'b', 'b', 'b', 'b', 'b', 'b', 'b']\n",
            "\n",
            "Predicted :   ['a', 'a', 'a', 'a', 'a', 'a', 'b', 'b', 'b', 'b', 'b', 'b', 'b', 'EOS']\n",
            "Actual seq :  ['a', 'a', 'a', 'a', 'a', 'a', 'b', 'b', 'b', 'b', 'b', 'b', 'b', 'EOS']\n",
            "Original seq: ['a', 'a', 'a', 'a', 'a', 'a', 'a', 'b', 'b', 'b', 'b', 'b', 'b', 'b']\n",
            "\n",
            "Predicted :   ['a', 'a', 'a', 'a', 'a', 'b', 'b', 'b', 'b', 'EOS']\n",
            "Actual seq :  ['a', 'a', 'a', 'a', 'b', 'b', 'b', 'b', 'b', 'EOS']\n",
            "Original seq: ['a', 'a', 'a', 'a', 'a', 'b', 'b', 'b', 'b', 'b']\n",
            "\n",
            "Predicted :   ['a', 'a', 'a', 'a', 'a', 'a', 'b', 'b', 'b', 'b', 'b', 'b', 'b', 'EOS']\n",
            "Actual seq :  ['a', 'a', 'a', 'a', 'a', 'a', 'b', 'b', 'b', 'b', 'b', 'b', 'b', 'EOS']\n",
            "Original seq: ['a', 'a', 'a', 'a', 'a', 'a', 'a', 'b', 'b', 'b', 'b', 'b', 'b', 'b']\n",
            "\n",
            "Predicted :   ['a', 'a', 'a', 'a', 'a', 'a', 'b', 'b', 'b', 'b', 'b', 'b', 'b', 'EOS']\n",
            "Actual seq :  ['a', 'a', 'a', 'a', 'a', 'a', 'b', 'b', 'b', 'b', 'b', 'b', 'b', 'EOS']\n",
            "Original seq: ['a', 'a', 'a', 'a', 'a', 'a', 'a', 'b', 'b', 'b', 'b', 'b', 'b', 'b']\n",
            "\n",
            "Predicted :   ['a', 'a', 'a', 'a', 'a', 'b', 'b', 'b', 'b', 'EOS']\n",
            "Actual seq :  ['a', 'a', 'a', 'a', 'b', 'b', 'b', 'b', 'b', 'EOS']\n",
            "Original seq: ['a', 'a', 'a', 'a', 'a', 'b', 'b', 'b', 'b', 'b']\n",
            "\n",
            "Predicted :   ['a', 'a', 'a', 'a', 'a', 'a', 'b', 'b', 'b', 'b', 'b', 'b', 'b', 'EOS']\n",
            "Actual seq :  ['a', 'a', 'a', 'a', 'a', 'a', 'b', 'b', 'b', 'b', 'b', 'b', 'b', 'EOS']\n",
            "Original seq: ['a', 'a', 'a', 'a', 'a', 'a', 'a', 'b', 'b', 'b', 'b', 'b', 'b', 'b']\n",
            "\n",
            "Predicted :   ['a', 'a', 'a', 'a', 'a', 'a', 'b', 'b', 'b', 'b', 'b', 'b', 'b', 'EOS']\n",
            "Actual seq :  ['a', 'a', 'a', 'a', 'a', 'a', 'b', 'b', 'b', 'b', 'b', 'b', 'b', 'EOS']\n",
            "Original seq: ['a', 'a', 'a', 'a', 'a', 'a', 'a', 'b', 'b', 'b', 'b', 'b', 'b', 'b']\n",
            "\n",
            "Predicted :   ['a', 'a', 'a', 'a', 'a', 'b', 'b', 'b', 'b', 'EOS']\n",
            "Actual seq :  ['a', 'a', 'a', 'a', 'b', 'b', 'b', 'b', 'b', 'EOS']\n",
            "Original seq: ['a', 'a', 'a', 'a', 'a', 'b', 'b', 'b', 'b', 'b']\n",
            "\n",
            "Predicted :   ['a', 'a', 'a', 'a', 'a', 'a', 'b', 'b', 'b', 'b', 'b', 'b', 'b', 'EOS']\n",
            "Actual seq :  ['a', 'a', 'a', 'a', 'a', 'a', 'b', 'b', 'b', 'b', 'b', 'b', 'b', 'EOS']\n",
            "Original seq: ['a', 'a', 'a', 'a', 'a', 'a', 'a', 'b', 'b', 'b', 'b', 'b', 'b', 'b']\n",
            "\n",
            "Predicted :   ['a', 'a', 'a', 'a', 'a', 'a', 'b', 'b', 'b', 'b', 'b', 'EOS']\n",
            "Actual seq :  ['a', 'a', 'a', 'a', 'a', 'b', 'b', 'b', 'b', 'b', 'b', 'EOS']\n",
            "Original seq: ['a', 'a', 'a', 'a', 'a', 'a', 'b', 'b', 'b', 'b', 'b', 'b']\n",
            "\n",
            "Predicted :   ['a', 'a', 'a', 'a', 'a', 'b', 'b', 'b', 'b', 'EOS']\n",
            "Actual seq :  ['a', 'a', 'a', 'a', 'b', 'b', 'b', 'b', 'b', 'EOS']\n",
            "Original seq: ['a', 'a', 'a', 'a', 'a', 'b', 'b', 'b', 'b', 'b']\n",
            "\n"
          ]
        }
      ]
    },
    {
      "cell_type": "code",
      "source": [
        "#------Calculating WER--------------#\n",
        "w_err = []\n",
        "w_acc = []\n",
        "for i in range(len(output_seq)):\n",
        "  pred = output_seq[i]\n",
        "  act = y_test[i]\n",
        "  wer = 0\n",
        "  wacc = 0\n",
        "  for k in range(len(act)):\n",
        "    if pred[k] != act[k]:\n",
        "      wer = wer +1\n",
        "    else:\n",
        "      wacc = wacc +1\n",
        "  w_err.append(wer/len(act))\n",
        "  w_acc.append(wacc/len(act))\n",
        "\n",
        "\n",
        "print(\"Total Word error Rate : \", sum(w_err)/len(w_err))\n",
        "print(\"Total Word Accuracy : \", sum(w_acc)/len(w_acc))"
      ],
      "metadata": {
        "id": "bq8Eh7wmO9cL",
        "colab": {
          "base_uri": "https://localhost:8080/"
        },
        "outputId": "ce5b9fd3-cd78-4288-fa3f-83587acbc35c"
      },
      "execution_count": null,
      "outputs": [
        {
          "output_type": "stream",
          "name": "stdout",
          "text": [
            "Total Word error Rate :  0.06316666666666661\n",
            "Total Word Accuracy :  0.9368333333333342\n"
          ]
        }
      ]
    },
    {
      "cell_type": "markdown",
      "source": [
        "Training Data"
      ],
      "metadata": {
        "id": "uLdItWeCbhFH"
      }
    },
    {
      "cell_type": "code",
      "source": [
        "#-------------------Training Data-------------#\n",
        "output_seq = []\n",
        "cnt = 0\n",
        "for i in range(len(x_train)):\n",
        "       \n",
        "        pred = rnn.predict(x_train[i])\n",
        "        predicted = [idx_to_word[id] for id in pred]\n",
        "        output_seq.append(predicted) \n",
        "        if predicted == y_train[i]:\n",
        "          cnt = cnt + 1"
      ],
      "metadata": {
        "id": "_3bH1AHTPIfN"
      },
      "execution_count": null,
      "outputs": []
    },
    {
      "cell_type": "code",
      "source": [
        "#------Calculating WER--------------#\n",
        "w_err = []\n",
        "w_acc = []\n",
        "for i in range(len(output_seq)):\n",
        "  pred = output_seq[i]\n",
        "  act = y_train[i]\n",
        "  wer = 0\n",
        "  wacc = 0\n",
        "  for k in range(len(act)):\n",
        "    if pred[k] != act[k]:\n",
        "      wer = wer +1\n",
        "    else:\n",
        "      wacc = wacc +1\n",
        "  w_err.append(wer/len(act))\n",
        "  w_acc.append(wacc/len(act))\n",
        "\n",
        "\n",
        "print(\"Total Word error Rate : \", sum(w_err)/len(w_err))\n",
        "print(\"Total Word Accuracy : \", sum(w_acc)/len(w_acc))"
      ],
      "metadata": {
        "id": "5iEusa1cPRcO",
        "colab": {
          "base_uri": "https://localhost:8080/"
        },
        "outputId": "ac688d41-64c9-49b7-ce41-094ab40e1820"
      },
      "execution_count": null,
      "outputs": [
        {
          "output_type": "stream",
          "name": "stdout",
          "text": [
            "Total Word error Rate :  0.0592916666666667\n",
            "Total Word Accuracy :  0.9407083333333328\n"
          ]
        }
      ]
    },
    {
      "cell_type": "markdown",
      "source": [
        "## Inferences and conclusions"
      ],
      "metadata": {
        "id": "dS7Xc1WqeXzg"
      }
    },
    {
      "cell_type": "markdown",
      "source": [
        "1. Test accuracy :\n",
        "Total Word error Rate :  0.06316666666666661\n",
        "\n",
        "Total Word Accuracy :  0.9368333333333342\n",
        "\n",
        "\n",
        "2. Train accuracy : \n",
        "\n",
        "Total Word error Rate :  0.0592916666666667\n",
        "\n",
        "Total Word Accuracy :  0.9407083333333328\n",
        "\n",
        "3. There is a problem about RNN called vanishing gradient problem. That's why traditional RNN cannot capture the long term dependency, so we use bptt_truncate parameter to constrain the length of dependency\n"
      ],
      "metadata": {
        "id": "1tDFt7XSegTZ"
      }
    },
    {
      "cell_type": "code",
      "source": [
        ""
      ],
      "metadata": {
        "id": "Wg-FU9PJjf-q"
      },
      "execution_count": null,
      "outputs": []
    }
  ]
}